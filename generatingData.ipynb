{
 "cells": [
  {
   "cell_type": "code",
   "id": "initial_id",
   "metadata": {
    "collapsed": true,
    "ExecuteTime": {
     "end_time": "2024-11-03T15:33:20.990809100Z",
     "start_time": "2024-11-03T15:17:25.020345Z"
    }
   },
   "source": [
    "import json\n",
    "import random\n",
    "import time\n",
    "from datetime import datetime\n",
    "from elasticsearch import Elasticsearch\n",
    "\n",
    "# Verbind met Elasticsearch\n",
    "es = Elasticsearch([\"http://localhost:9200\"])\n",
    "\n",
    "# Meetgegevens en locatie-instellingen per zone\n",
    "zones = {\n",
    "    1: {\"lat\": 51.2194, \"lon\": 4.4025, \"noise\": (60, 70), \"pm\": (15, 25), \"temp\": (15, 20)},  # Noord\n",
    "    2: {\"lat\": 51.2094, \"lon\": 4.3925, \"noise\": (55, 65), \"pm\": (10, 20), \"temp\": (10, 15)},  # Oost\n",
    "    3: {\"lat\": 51.2194, \"lon\": 4.4125, \"noise\": (50, 60), \"pm\": (20, 30), \"temp\": (15, 25)},  # Zuid\n",
    "    4: {\"lat\": 51.2294, \"lon\": 4.4025, \"noise\": (65, 75), \"pm\": (25, 35), \"temp\": (10, 15)}   # West\n",
    "}\n",
    "\n",
    "measurement_types = ['geluid', 'fijnstof', 'temperatuur']\n",
    "output_file = './measurements.json'\n",
    "\n",
    "# Functie om een meetpunt te genereren\n",
    "def generate_measurement():\n",
    "    zone = random.choice(list(zones.keys()))\n",
    "    location = {\n",
    "        \"lat\": zones[zone][\"lat\"] + random.uniform(-0.01, 0.01),\n",
    "        \"lon\": zones[zone][\"lon\"] + random.uniform(-0.01, 0.01)\n",
    "    }\n",
    "\n",
    "    measurement_type = random.choice(measurement_types)\n",
    "    if measurement_type == \"geluid\":\n",
    "        value = round(random.uniform(*zones[zone][\"noise\"]), 2)\n",
    "    elif measurement_type == \"fijnstof\":\n",
    "        value = round(random.uniform(*zones[zone][\"pm\"]), 2)\n",
    "    else:\n",
    "        value = round(random.uniform(*zones[zone][\"temp\"]), 2)\n",
    "\n",
    "    return {\n",
    "        \"timestamp\": datetime.now().isoformat(),\n",
    "        \"location\": location,\n",
    "        \"measurement_type\": measurement_type,\n",
    "        \"measurement_value\": value\n",
    "    }\n",
    "\n",
    "# Data genereren en opslaan in Elasticsearch en JSON-bestand\n",
    "while True:\n",
    "    measurement = generate_measurement()\n",
    "    \n",
    "    # Opslaan in Elasticsearch\n",
    "    es.index(index=\"velo_measurements\", document=measurement)\n",
    "    print(f\"Measurement added to Elasticsearch: {measurement}\")\n",
    "\n",
    "    # Opslaan in JSON-bestand\n",
    "    with open(output_file, 'a') as f:\n",
    "        json.dump(measurement, f)\n",
    "        f.write('\\n')\n",
    "    print(f\"Measurement saved to JSON file: {measurement}\")\n",
    "\n",
    "    time.sleep(60)  # Wacht één minuut voor de volgende meting\n"
   ],
   "outputs": [
    {
     "name": "stdout",
     "output_type": "stream",
     "text": [
      "Measurement added to Elasticsearch: {'timestamp': '2024-11-03T16:17:26.707272', 'location': {'lat': 51.22324827321417, 'lon': 4.411983565133983}, 'measurement_type': 'fijnstof', 'measurement_value': 23.07}\n",
      "Measurement saved to JSON file: {'timestamp': '2024-11-03T16:17:26.707272', 'location': {'lat': 51.22324827321417, 'lon': 4.411983565133983}, 'measurement_type': 'fijnstof', 'measurement_value': 23.07}\n",
      "Measurement added to Elasticsearch: {'timestamp': '2024-11-03T16:18:26.730646', 'location': {'lat': 51.22696590136999, 'lon': 4.420805950879124}, 'measurement_type': 'fijnstof', 'measurement_value': 29.92}\n",
      "Measurement saved to JSON file: {'timestamp': '2024-11-03T16:18:26.730646', 'location': {'lat': 51.22696590136999, 'lon': 4.420805950879124}, 'measurement_type': 'fijnstof', 'measurement_value': 29.92}\n",
      "Measurement added to Elasticsearch: {'timestamp': '2024-11-03T16:19:26.793900', 'location': {'lat': 51.22666239294519, 'lon': 4.405812312226163}, 'measurement_type': 'temperatuur', 'measurement_value': 13.66}\n",
      "Measurement saved to JSON file: {'timestamp': '2024-11-03T16:19:26.793900', 'location': {'lat': 51.22666239294519, 'lon': 4.405812312226163}, 'measurement_type': 'temperatuur', 'measurement_value': 13.66}\n",
      "Measurement added to Elasticsearch: {'timestamp': '2024-11-03T16:20:26.863714', 'location': {'lat': 51.219813947477384, 'lon': 4.408427060647147}, 'measurement_type': 'temperatuur', 'measurement_value': 13.22}\n",
      "Measurement saved to JSON file: {'timestamp': '2024-11-03T16:20:26.863714', 'location': {'lat': 51.219813947477384, 'lon': 4.408427060647147}, 'measurement_type': 'temperatuur', 'measurement_value': 13.22}\n",
      "Measurement added to Elasticsearch: {'timestamp': '2024-11-03T16:21:26.928650', 'location': {'lat': 51.2178420468214, 'lon': 4.415697070545127}, 'measurement_type': 'temperatuur', 'measurement_value': 19.4}\n",
      "Measurement saved to JSON file: {'timestamp': '2024-11-03T16:21:26.928650', 'location': {'lat': 51.2178420468214, 'lon': 4.415697070545127}, 'measurement_type': 'temperatuur', 'measurement_value': 19.4}\n",
      "Measurement added to Elasticsearch: {'timestamp': '2024-11-03T16:22:26.988722', 'location': {'lat': 51.21524228869001, 'lon': 4.419943535250573}, 'measurement_type': 'geluid', 'measurement_value': 53.4}\n",
      "Measurement saved to JSON file: {'timestamp': '2024-11-03T16:22:26.988722', 'location': {'lat': 51.21524228869001, 'lon': 4.419943535250573}, 'measurement_type': 'geluid', 'measurement_value': 53.4}\n",
      "Measurement added to Elasticsearch: {'timestamp': '2024-11-03T16:23:27.053392', 'location': {'lat': 51.20730828429663, 'lon': 4.387564158617154}, 'measurement_type': 'temperatuur', 'measurement_value': 11.95}\n",
      "Measurement saved to JSON file: {'timestamp': '2024-11-03T16:23:27.053392', 'location': {'lat': 51.20730828429663, 'lon': 4.387564158617154}, 'measurement_type': 'temperatuur', 'measurement_value': 11.95}\n",
      "Measurement added to Elasticsearch: {'timestamp': '2024-11-03T16:24:27.116922', 'location': {'lat': 51.225120071719445, 'lon': 4.393962904163212}, 'measurement_type': 'temperatuur', 'measurement_value': 17.37}\n",
      "Measurement saved to JSON file: {'timestamp': '2024-11-03T16:24:27.116922', 'location': {'lat': 51.225120071719445, 'lon': 4.393962904163212}, 'measurement_type': 'temperatuur', 'measurement_value': 17.37}\n",
      "Measurement added to Elasticsearch: {'timestamp': '2024-11-03T16:25:27.195187', 'location': {'lat': 51.20460753607115, 'lon': 4.389130995828574}, 'measurement_type': 'geluid', 'measurement_value': 62.97}\n",
      "Measurement saved to JSON file: {'timestamp': '2024-11-03T16:25:27.195187', 'location': {'lat': 51.20460753607115, 'lon': 4.389130995828574}, 'measurement_type': 'geluid', 'measurement_value': 62.97}\n",
      "Measurement added to Elasticsearch: {'timestamp': '2024-11-03T16:26:27.259902', 'location': {'lat': 51.21617216463853, 'lon': 4.387787233231961}, 'measurement_type': 'geluid', 'measurement_value': 64.46}\n",
      "Measurement saved to JSON file: {'timestamp': '2024-11-03T16:26:27.259902', 'location': {'lat': 51.21617216463853, 'lon': 4.387787233231961}, 'measurement_type': 'geluid', 'measurement_value': 64.46}\n",
      "Measurement added to Elasticsearch: {'timestamp': '2024-11-03T16:27:27.338155', 'location': {'lat': 51.22617070621128, 'lon': 4.399047057082166}, 'measurement_type': 'temperatuur', 'measurement_value': 11.13}\n",
      "Measurement saved to JSON file: {'timestamp': '2024-11-03T16:27:27.338155', 'location': {'lat': 51.22617070621128, 'lon': 4.399047057082166}, 'measurement_type': 'temperatuur', 'measurement_value': 11.13}\n",
      "Measurement added to Elasticsearch: {'timestamp': '2024-11-03T16:28:27.401075', 'location': {'lat': 51.217036975730835, 'lon': 4.384611613996301}, 'measurement_type': 'fijnstof', 'measurement_value': 13.69}\n",
      "Measurement saved to JSON file: {'timestamp': '2024-11-03T16:28:27.401075', 'location': {'lat': 51.217036975730835, 'lon': 4.384611613996301}, 'measurement_type': 'fijnstof', 'measurement_value': 13.69}\n",
      "Measurement added to Elasticsearch: {'timestamp': '2024-11-03T16:29:27.472275', 'location': {'lat': 51.23715933054489, 'lon': 4.408457661572825}, 'measurement_type': 'geluid', 'measurement_value': 69.86}\n",
      "Measurement saved to JSON file: {'timestamp': '2024-11-03T16:29:27.472275', 'location': {'lat': 51.23715933054489, 'lon': 4.408457661572825}, 'measurement_type': 'geluid', 'measurement_value': 69.86}\n",
      "Measurement added to Elasticsearch: {'timestamp': '2024-11-03T16:30:27.537368', 'location': {'lat': 51.22394467875788, 'lon': 4.403495994160455}, 'measurement_type': 'geluid', 'measurement_value': 66.62}\n",
      "Measurement saved to JSON file: {'timestamp': '2024-11-03T16:30:27.537368', 'location': {'lat': 51.22394467875788, 'lon': 4.403495994160455}, 'measurement_type': 'geluid', 'measurement_value': 66.62}\n",
      "Measurement added to Elasticsearch: {'timestamp': '2024-11-03T16:31:27.648196', 'location': {'lat': 51.23222165772895, 'lon': 4.395710963574228}, 'measurement_type': 'geluid', 'measurement_value': 73.02}\n",
      "Measurement saved to JSON file: {'timestamp': '2024-11-03T16:31:27.648196', 'location': {'lat': 51.23222165772895, 'lon': 4.395710963574228}, 'measurement_type': 'geluid', 'measurement_value': 73.02}\n",
      "Measurement added to Elasticsearch: {'timestamp': '2024-11-03T16:32:27.774826', 'location': {'lat': 51.21015072915644, 'lon': 4.408113219198505}, 'measurement_type': 'fijnstof', 'measurement_value': 16.86}\n",
      "Measurement saved to JSON file: {'timestamp': '2024-11-03T16:32:27.774826', 'location': {'lat': 51.21015072915644, 'lon': 4.408113219198505}, 'measurement_type': 'fijnstof', 'measurement_value': 16.86}\n"
     ]
    }
   ],
   "execution_count": null
  }
 ],
 "metadata": {
  "kernelspec": {
   "display_name": "Python 3",
   "language": "python",
   "name": "python3"
  },
  "language_info": {
   "codemirror_mode": {
    "name": "ipython",
    "version": 2
   },
   "file_extension": ".py",
   "mimetype": "text/x-python",
   "name": "python",
   "nbconvert_exporter": "python",
   "pygments_lexer": "ipython2",
   "version": "2.7.6"
  }
 },
 "nbformat": 4,
 "nbformat_minor": 5
}
