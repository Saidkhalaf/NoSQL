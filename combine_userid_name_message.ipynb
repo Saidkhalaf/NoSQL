{
 "cells": [
  {
   "metadata": {
    "ExecuteTime": {
     "end_time": "2024-10-21T14:27:09.902345Z",
     "start_time": "2024-10-21T14:27:09.758051Z"
    }
   },
   "cell_type": "code",
   "source": [
    "import psycopg2\n",
    "import csv\n",
    "\n",
    "# Database settings\n",
    "db_settings = {\n",
    "    'database': 'VeloDB',\n",
    "    'username': 'postgres',\n",
    "    'password': 'DB3DB3DB3',\n",
    "    'host': 'localhost',\n",
    "    'port': '5433'\n",
    "}\n",
    "\n",
    "# Connect to VeloDB\n",
    "conn = psycopg2.connect(\n",
    "    dbname=db_settings['database'],\n",
    "    user=db_settings['username'],\n",
    "    password=db_settings['password'],\n",
    "    host=db_settings['host'],\n",
    "    port=db_settings['port']\n",
    ")\n",
    "        \n",
    "# Fetch UserId and Name from the velo_users table, limit to 1000 users\n",
    "cursor = conn.cursor()\n",
    "query = \"SELECT userid, name FROM velo_users LIMIT 1015\"\n",
    "cursor.execute(query)\n",
    "rows = cursor.fetchall()\n",
    "\n",
    "# Read messages from the CSV file\n",
    "messages = []\n",
    "with open('./FileStore/tables/tweets.csv', 'r', encoding='utf-8') as file:\n",
    "    reader = csv.reader(file)\n",
    "    for row in reader:\n",
    "        messages.append(row[2])\n",
    "        \n",
    "# Ensure we have at least as many messages as rows in the database\n",
    "if len(messages) < len(rows):\n",
    "    raise ValueError(f\"Not enough messages in CSV file. Required: {len(rows)}, Available: {len(messages)}\")\n",
    "\n",
    "# Write the combined data to a CSV file\n",
    "with open('FileStore/tables/output.csv', 'w', newline='', encoding='utf-8') as csvfile:\n",
    "    csv_writer = csv.writer(csvfile)\n",
    "    for i, row in enumerate(rows):\n",
    "        userid, name = row\n",
    "        message = messages[i]\n",
    "        csv_writer.writerow([userid, name, message])\n",
    "\n",
    "# Clean up\n",
    "cursor.close()\n",
    "conn.close()\n"
   ],
   "id": "fcff52e3dc7a31cb",
   "outputs": [],
   "execution_count": 30
  }
 ],
 "metadata": {
  "kernelspec": {
   "display_name": "Python 3",
   "language": "python",
   "name": "python3"
  },
  "language_info": {
   "codemirror_mode": {
    "name": "ipython",
    "version": 2
   },
   "file_extension": ".py",
   "mimetype": "text/x-python",
   "name": "python",
   "nbconvert_exporter": "python",
   "pygments_lexer": "ipython2",
   "version": "2.7.6"
  }
 },
 "nbformat": 4,
 "nbformat_minor": 5
}
