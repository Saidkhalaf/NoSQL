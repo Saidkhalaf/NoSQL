{
 "cells": [
  {
   "metadata": {
    "ExecuteTime": {
     "end_time": "2024-10-21T16:21:05.522294Z",
     "start_time": "2024-10-21T16:21:05.493242Z"
    }
   },
   "cell_type": "code",
   "source": [
    "import requests\n",
    "import json\n",
    "\n",
    "# Define the Elasticsearch URL and headers\n",
    "es_url = 'http://localhost:9200/forum/_search'\n",
    "headers = {'Content-Type': 'application/json'}\n",
    "\n",
    "# Query to get some documents and verify data structure\n",
    "query = {\n",
    "    \"query\": {\n",
    "        \"match_all\": {}\n",
    "    },\n",
    "    \"size\": 5  # Limit the response to 5 documents\n",
    "}\n",
    "\n",
    "response = requests.get(es_url, headers=headers, data=json.dumps(query))\n",
    "print(response.json())"
   ],
   "id": "2d61b571f1ba4488",
   "outputs": [
    {
     "name": "stdout",
     "output_type": "stream",
     "text": [
      "{'took': 1, 'timed_out': False, '_shards': {'total': 1, 'successful': 1, 'skipped': 0, 'failed': 0}, 'hits': {'total': {'value': 1015, 'relation': 'eq'}, 'max_score': 1.0, 'hits': [{'_index': 'forum', '_id': 'GYrhr5IBUhhz9WkheGEb', '_score': 1.0, '_source': {'UserId': 2, 'Name': 'van der Zee Julia', 'Message': 'Message'}}, {'_index': 'forum', '_id': 'Gorhr5IBUhhz9WkheGE-', '_score': 1.0, '_source': {'UserId': 3, 'Name': 'de Boer Ricardo', 'Message': 'Human wall live account trip force. Which since than sit break.'}}, {'_index': 'forum', '_id': 'G4rhr5IBUhhz9WkheGFb', '_score': 1.0, '_source': {'UserId': 4, 'Name': 'Willems Angela', 'Message': 'Weight game wear type student agree. Firm tree lead want place majority. Agent among structure one like various.'}}, {'_index': 'forum', '_id': 'HIrhr5IBUhhz9WkheGGA', '_score': 1.0, '_source': {'UserId': 5, 'Name': 'Heijnen Patricia', 'Message': 'Area per summer recognize. Try military long bit new now specific computer. Field effect figure young town.'}}, {'_index': 'forum', '_id': 'HYrhr5IBUhhz9WkheGGe', '_score': 1.0, '_source': {'UserId': 6, 'Name': 'Driessen Anouk', 'Message': 'Gun billion source kid. Door save water deal whether cultural. Yard director general at.'}}]}}\n"
     ]
    }
   ],
   "execution_count": 2
  },
  {
   "cell_type": "code",
   "id": "initial_id",
   "metadata": {
    "collapsed": true,
    "ExecuteTime": {
     "end_time": "2024-10-21T16:21:39.461922Z",
     "start_time": "2024-10-21T16:21:39.411084Z"
    }
   },
   "source": [
    "import requests\n",
    "import json\n",
    "\n",
    "# Specify the Name to search for\n",
    "\n",
    "query = {\n",
    "    \"query\": {\n",
    "        \"match\": {\n",
    "            \"Name\": {\n",
    "                \"query\": \"Willems Angela\",\n",
    "                \"fuzziness\": \"AUTO\"\n",
    "            }\n",
    "        }\n",
    "    }\n",
    "}\n",
    "\n",
    "# Define the Elasticsearch URL and headers\n",
    "es_url = 'http://localhost:9200/forum/_search'\n",
    "headers = {'Content-Type': 'application/json'}\n",
    "\n",
    "# Perform the search query\n",
    "response = requests.get(es_url, headers=headers, data=json.dumps(query))\n",
    "print(response.json())\n",
    "\n"
   ],
   "outputs": [
    {
     "name": "stdout",
     "output_type": "stream",
     "text": [
      "{'took': 19, 'timed_out': False, '_shards': {'total': 1, 'successful': 1, 'skipped': 0, 'failed': 0}, 'hits': {'total': {'value': 18, 'relation': 'eq'}, 'max_score': 11.159673, 'hits': [{'_index': 'forum', '_id': 'G4rhr5IBUhhz9WkheGFb', '_score': 11.159673, '_source': {'UserId': 4, 'Name': 'Willems Angela', 'Message': 'Weight game wear type student agree. Firm tree lead want place majority. Agent among structure one like various.'}}, {'_index': 'forum', '_id': 'KYrhr5IBUhhz9WkheWH2', '_score': 5.855809, '_source': {'UserId': 18, 'Name': 'Veldman Angela', 'Message': 'Keep security our leader. Professor score hundred you chance design.'}}, {'_index': 'forum', '_id': 'x4rhr5IBUhhz9WkhkmM_', '_score': 5.855809, '_source': {'UserId': 685, 'Name': 'Goossens Angela', 'Message': 'Ahead walk four situation. International smile store with dream reveal night their.'}}, {'_index': 'forum', '_id': 'CIrhr5IBUhhz9WkhgmLP', '_score': 5.3038635, '_source': {'UserId': 241, 'Name': 'Willems Nicky', 'Message': 'Your realize most.'}}, {'_index': 'forum', '_id': 'jYrhr5IBUhhz9Wkhh2La', '_score': 5.3038635, '_source': {'UserId': 373, 'Name': 'Willems Erik', 'Message': 'Information across chair chance skin. Large front media hair human hair. Any pretty rise part program work.'}}, {'_index': 'forum', '_id': '0Irhr5IBUhhz9WkhimJM', '_score': 5.3038635, '_source': {'UserId': 440, 'Name': 'Willems Jeffrey', 'Message': 'Drug real require sort direction easy. Land wish early fund even represent upon. Despite current recently all forward.'}}, {'_index': 'forum', '_id': '_orhr5IBUhhz9Wkhk2P9', '_score': 5.3038635, '_source': {'UserId': 740, 'Name': 'Willems Yvonne', 'Message': 'Whole brother reason week reason. Simply TV prepare throughout best foreign finally. Them these land.'}}, {'_index': 'forum', '_id': 'd4rhr5IBUhhz9Wkhl2Tl', '_score': 5.3038635, '_source': {'UserId': 861, 'Name': 'Willems Richard', 'Message': 'Window ten religious stand. Never true six nature. Glass election thousand camera compare green.'}}, {'_index': 'forum', '_id': 'oorhr5IBUhhz9WkhmWRV', '_score': 5.3038635, '_source': {'UserId': 904, 'Name': 'Willems Jessica', 'Message': 'Send out any ever just despite. Test us organization agent son. Knowledge large positive father skill.'}}, {'_index': 'forum', '_id': 'SIrhr5IBUhhz9WkhlmRb', '_score': 4.959347, '_source': {'UserId': 814, 'Name': 'de Ridder Angela', 'Message': 'For red score culture change choice campaign down. Mention society political able.\\nStory number car situation wide. Ago yet candidate baby.'}}]}}\n"
     ]
    }
   ],
   "execution_count": 4
  },
  {
   "metadata": {},
   "cell_type": "markdown",
   "source": "",
   "id": "7a37f28a8ec37075"
  },
  {
   "metadata": {
    "ExecuteTime": {
     "end_time": "2024-10-21T16:22:38.057329Z",
     "start_time": "2024-10-21T16:22:38.012911Z"
    }
   },
   "cell_type": "code",
   "source": [
    "import requests\n",
    "import json\n",
    "\n",
    "# Specify the Message to search for\n",
    "query = {\n",
    "    \"query\": {\n",
    "        \"match\": {\n",
    "            \"Message\": {\n",
    "                \"query\": \"another\",\n",
    "                \"fuzziness\": \"AUTO\"\n",
    "            }\n",
    "        }\n",
    "    }\n",
    "}\n",
    "\n",
    "# Define the Elasticsearch URL and headers\n",
    "es_url = 'http://localhost:9200/forum/_search'\n",
    "headers = {'Content-Type': 'application/json'}\n",
    "\n",
    "# Perform the search query\n",
    "response = requests.get(es_url, headers=headers, data=json.dumps(query))\n",
    "print(response.json())\n"
   ],
   "id": "c8c763f6b682c037",
   "outputs": [
    {
     "name": "stdout",
     "output_type": "stream",
     "text": [
      "{'took': 17, 'timed_out': False, '_shards': {'total': 1, 'successful': 1, 'skipped': 0, 'failed': 0}, 'hits': {'total': {'value': 62, 'relation': 'eq'}, 'max_score': 6.778697, 'hits': [{'_index': 'forum', '_id': 'tIrhr5IBUhhz9WkhmWTU', '_score': 6.778697, '_source': {'UserId': 922, 'Name': 'Groen Cornelis', 'Message': 'Mother hard easy with adult those. Capital keep guess project artist garden another.'}}, {'_index': 'forum', '_id': 'P4rhr5IBUhhz9Wkhe2FD', '_score': 4.7562413, '_source': {'UserId': 40, 'Name': 'van der Laan Nick', 'Message': 'Within cold even clear program. Together another despite.'}}, {'_index': 'forum', '_id': 'mYrhr5IBUhhz9WkhkGOr', '_score': 4.454396, '_source': {'UserId': 640, 'Name': 'Schuurman Lieke', 'Message': 'Travel term investment raise. Common rest vote your another card.'}}, {'_index': 'forum', '_id': 'CIrhr5IBUhhz9WkhnGVO', '_score': 4.3173976, '_source': {'UserId': 1005, 'Name': 'Schouten Christiaan', 'Message': 'Staff rule another out television activity away. Live respond happy federal.'}}, {'_index': 'forum', '_id': 'I4rhr5IBUhhz9WkhlWQl', '_score': 3.8444443, '_source': {'UserId': 777, 'Name': 'Hoogendoorn Kevin', 'Message': 'Future form federal difficult another wife yet wish. Old course hour significant down low just.'}}, {'_index': 'forum', '_id': 'BYrhr5IBUhhz9WkhnGU1', '_score': 3.8444443, '_source': {'UserId': 1002, 'Name': 'Jager Eva', 'Message': 'Life real paper industry situation. If include mouth poor. Politics quickly crime another chance oil.'}}, {'_index': 'forum', '_id': 'TYrhr5IBUhhz9WkhhWJx', '_score': 3.7419653, '_source': {'UserId': 309, 'Name': 'Aarts Gerrit', 'Message': 'Sure another bar article make. His hour body or. Under catch use give event or that.'}}, {'_index': 'forum', '_id': 'DIrhr5IBUhhz9WkhjGMo', '_score': 3.7419653, '_source': {'UserId': 500, 'Name': 'Kuiper Fleur', 'Message': 'Take experience result process. Run vote another clearly color from. Tv kind option serious else account.'}}, {'_index': 'forum', '_id': 'worhr5IBUhhz9WkhiWLW', '_score': 3.6448083, '_source': {'UserId': 426, 'Name': 'Kooistra Willem', 'Message': 'Citizen prevent condition. Fill decade responsibility future another race. Style his their day level lawyer people pay.'}}, {'_index': 'forum', '_id': 'I4rhr5IBUhhz9WkhjGPj', '_score': 3.6448083, '_source': {'UserId': 523, 'Name': 'van der Laan Johannes', 'Message': 'Clear finally arm race each read. Son enough stay system participant type.\\nAnother painting get discover professor.'}}]}}\n"
     ]
    }
   ],
   "execution_count": 6
  },
  {
   "metadata": {
    "ExecuteTime": {
     "end_time": "2024-10-21T16:24:05.282701Z",
     "start_time": "2024-10-21T16:24:05.253800Z"
    }
   },
   "cell_type": "code",
   "source": [
    "\n",
    "import requests\n",
    "import json\n",
    "\n",
    "# Specify the \"dirty\" word to search for in the Message field\n",
    "query = {\n",
    "    \"query\": {\n",
    "        \"match\": {\n",
    "            \"Message\": {\n",
    "                \"query\": \"vuile\",\n",
    "                \"fuzziness\": \"AUTO\"\n",
    "            }\n",
    "        }\n",
    "    }\n",
    "}\n",
    "\n",
    "# Define the Elasticsearch URL and headers\n",
    "es_url = 'http://localhost:9200/forum/_search'\n",
    "headers = {'Content-Type': 'application/json'}\n",
    "\n",
    "# Perform the search query\n",
    "response = requests.get(es_url, headers=headers, data=json.dumps(query))\n",
    "print(response.json())\n"
   ],
   "id": "6d255d236fea9ace",
   "outputs": [
    {
     "name": "stdout",
     "output_type": "stream",
     "text": [
      "{'took': 2, 'timed_out': False, '_shards': {'total': 1, 'successful': 1, 'skipped': 0, 'failed': 0}, 'hits': {'total': {'value': 0, 'relation': 'eq'}, 'max_score': None, 'hits': []}}\n"
     ]
    }
   ],
   "execution_count": 7
  }
 ],
 "metadata": {
  "kernelspec": {
   "display_name": "Python 3",
   "language": "python",
   "name": "python3"
  },
  "language_info": {
   "codemirror_mode": {
    "name": "ipython",
    "version": 2
   },
   "file_extension": ".py",
   "mimetype": "text/x-python",
   "name": "python",
   "nbconvert_exporter": "python",
   "pygments_lexer": "ipython2",
   "version": "2.7.6"
  }
 },
 "nbformat": 4,
 "nbformat_minor": 5
}
