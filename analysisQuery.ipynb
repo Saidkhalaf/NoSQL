{
 "cells": [
  {
   "metadata": {
    "ExecuteTime": {
     "end_time": "2024-10-30T19:16:26.247931Z",
     "start_time": "2024-10-30T19:16:26.206203Z"
    }
   },
   "cell_type": "code",
   "source": [
    "from elasticsearch import Elasticsearch\n",
    "\n",
    "# Stap 1: Verbinding maken met Elasticsearch\n",
    "es = Elasticsearch(\"http://localhost:9200\")  # Update indien nodig met je Elasticsearch URL\n",
    "\n",
    "# Stap 2: Definieer de Aggregatie-Query met geohash\n",
    "query = {\n",
    "    \"size\": 0,\n",
    "    \"aggs\": {\n",
    "        \"location_buckets\": {\n",
    "            \"geohash_grid\": {\n",
    "                \"field\": \"location\",\n",
    "                \"precision\": 5  # Past de locatie aan tot ongeveer 100 meter precisie\n",
    "            },\n",
    "            \"aggs\": {\n",
    "                \"time_buckets\": {\n",
    "                    \"date_histogram\": {\n",
    "                        \"field\": \"timestamp\",\n",
    "                        \"fixed_interval\": \"5m\"\n",
    "                    },\n",
    "                    \"aggs\": {\n",
    "                        \"average_measurement\": {\n",
    "                            \"terms\": {\n",
    "                                \"field\": \"measurement_type.keyword\"\n",
    "                            },\n",
    "                            \"aggs\": {\n",
    "                                \"average_value\": {\n",
    "                                    \"avg\": {\n",
    "                                        \"field\": \"measurement_value\"\n",
    "                                    }\n",
    "                                }\n",
    "                            }\n",
    "                        }\n",
    "                    }\n",
    "                }\n",
    "            }\n",
    "        }\n",
    "    }\n",
    "}\n",
    "\n",
    "# Stap 3: Voer de Query uit\n",
    "response = es.search(index=\"velo_measurements\", body=query)\n",
    "\n",
    "# Stap 4: Verwerk en toon de resultaten\n",
    "for location in response['aggregations']['location_buckets']['buckets']:\n",
    "    location_key = location['key']\n",
    "    print(f\"Location Zone (GeoHash): {location_key}\")\n",
    "\n",
    "    for time_bucket in location['time_buckets']['buckets']:\n",
    "        timestamp = time_bucket['key_as_string']\n",
    "        print(f\"  Time Interval: {timestamp}\")\n",
    "\n",
    "        for measurement in time_bucket['average_measurement']['buckets']:\n",
    "            measurement_type = measurement['key']\n",
    "            average_value = measurement['average_value']['value']\n",
    "            print(f\"    Measurement: {measurement_type}, Average: {average_value}\")\n"
   ],
   "id": "9b02f8903eb28286",
   "outputs": [
    {
     "name": "stdout",
     "output_type": "stream",
     "text": [
      "Location Zone (GeoHash): u155k\n",
      "  Time Interval: 2024-10-30T19:40:00.000Z\n",
      "  Time Interval: 2024-10-30T19:45:00.000Z\n",
      "  Time Interval: 2024-10-30T19:50:00.000Z\n",
      "  Time Interval: 2024-10-30T19:55:00.000Z\n",
      "  Time Interval: 2024-10-30T20:00:00.000Z\n",
      "  Time Interval: 2024-10-30T20:05:00.000Z\n",
      "  Time Interval: 2024-10-30T20:10:00.000Z\n",
      "  Time Interval: 2024-10-30T20:15:00.000Z\n",
      "Location Zone (GeoHash): u1557\n",
      "  Time Interval: 2024-10-30T19:40:00.000Z\n",
      "  Time Interval: 2024-10-30T19:45:00.000Z\n",
      "  Time Interval: 2024-10-30T19:50:00.000Z\n",
      "  Time Interval: 2024-10-30T19:55:00.000Z\n",
      "  Time Interval: 2024-10-30T20:00:00.000Z\n",
      "  Time Interval: 2024-10-30T20:05:00.000Z\n"
     ]
    }
   ],
   "execution_count": 5
  }
 ],
 "metadata": {
  "kernelspec": {
   "display_name": "Python 3",
   "language": "python",
   "name": "python3"
  },
  "language_info": {
   "codemirror_mode": {
    "name": "ipython",
    "version": 2
   },
   "file_extension": ".py",
   "mimetype": "text/x-python",
   "name": "python",
   "nbconvert_exporter": "python",
   "pygments_lexer": "ipython2",
   "version": "2.7.6"
  }
 },
 "nbformat": 4,
 "nbformat_minor": 5
}
